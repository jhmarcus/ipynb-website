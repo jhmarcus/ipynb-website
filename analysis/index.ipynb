{
  "cells": [
    {
      "cell_type": "markdown",
      "source": [
        "# Project name\n",
        "\n**authors:** Joseph Marcus"
      ],
      "metadata": {}
    },
    {
      "cell_type": "markdown",
      "source": [
        "## Project overview\n",
        "\n*in progress*"
      ],
      "metadata": {}
    },
    {
      "cell_type": "markdown",
      "source": [
        "## Credits\n",
        "\n",
        "**ipynb website** was developed by:\n",
        "\n",
        "Peter Carbonetto and Gao Wang<br>\n",
        "Dept. of Human Genetics<br>\n",
        "University of Chicago<br>\n",
        "\n",
        "[John Blischak](https://github.com/jdblischak),\n",
        "[Matthew Stephens](http://stephenslab.uchicago.edu) and others have\n",
        "also contributed to the development of this software."
      ],
      "metadata": {}
    }
  ],
  "metadata": {
    "kernelspec": {
      "display_name": "R",
      "language": "R",
      "name": "ir"
    },
    "language_info": {
      "codemirror_mode": "r",
      "file_extension": ".r",
      "mimetype": "text/x-r-source",
      "name": "R",
      "pygments_lexer": "r",
      "version": "3.3.2"
    },
    "nteract": {
      "version": "0.7.1"
    }
  },
  "nbformat": 4,
  "nbformat_minor": 2
}